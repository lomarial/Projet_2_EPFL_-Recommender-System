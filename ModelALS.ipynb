{
 "cells": [
  {
   "cell_type": "markdown",
   "metadata": {},
   "source": [
    "# Recommender system"
   ]
  },
  {
   "cell_type": "code",
   "execution_count": 1,
   "metadata": {},
   "outputs": [],
   "source": [
    "# Useful starting lines\n",
    "%matplotlib inline\n",
    "\n",
    "import numpy as np\n",
    "import scipy\n",
    "import scipy.io\n",
    "import scipy.sparse as sp\n",
    "import matplotlib.pyplot as plt\n",
    "%load_ext autoreload\n",
    "%autoreload 2"
   ]
  },
  {
   "cell_type": "markdown",
   "metadata": {},
   "source": [
    "## Load the Data"
   ]
  },
  {
   "cell_type": "code",
   "execution_count": 3,
   "metadata": {},
   "outputs": [
    {
     "name": "stdout",
     "output_type": "stream",
     "text": [
      "number of items: 10000, number of users: 1000\n"
     ]
    }
   ],
   "source": [
    "from helpers import load_data, preprocess_data\n",
    "\n",
    "path_dataset = \"data_train.csv\"\n",
    "path_sample = \"sampleSubmission.csv\"\n",
    "path_submission = \"submission.csv\"\n",
    "ratings_full = load_data(path_dataset)"
   ]
  },
  {
   "cell_type": "markdown",
   "metadata": {},
   "source": [
    "### Extract only a subset of the ratings to work with, to quickly tune parameters"
   ]
  },
  {
   "cell_type": "code",
   "execution_count": 168,
   "metadata": {},
   "outputs": [],
   "source": [
    "row, col = ratings_full.shape\n",
    "select = np.random.choice(row, size=3000)\n",
    "ratings = ratings_full[:, :]"
   ]
  },
  {
   "cell_type": "markdown",
   "metadata": {},
   "source": [
    "### Plot the number of ratings per movie and user"
   ]
  },
  {
   "cell_type": "code",
   "execution_count": 169,
   "metadata": {},
   "outputs": [
    {
     "data": {
      "image/png": "[encoded data removed]",
      "text/plain": [
       "<Figure size 432x288 with 2 Axes>"
      ]
     },
     "metadata": {
      "needs_background": "light"
     },
     "output_type": "display_data"
    },
    {
     "name": "stdout",
     "output_type": "stream",
     "text": [
      "min # of items per user = 8, min # of users per item = 3.\n"
     ]
    }
   ],
   "source": [
    "from plots import plot_raw_data\n",
    "\n",
    "num_items_per_user, num_users_per_item = plot_raw_data(ratings)\n",
    "\n",
    "print(\"min # of items per user = {}, min # of users per item = {}.\".format(\n",
    "        min(num_items_per_user), min(num_users_per_item)))"
   ]
  },
  {
   "cell_type": "markdown",
   "metadata": {},
   "source": [
    "### Split the data into a train and test set"
   ]
  },
  {
   "cell_type": "code",
   "execution_count": 96,
   "metadata": {},
   "outputs": [],
   "source": [
    "def split_data(ratings, num_items_per_user, num_users_per_item,\n",
    "               min_num_ratings, p_test=0.5):\n",
    "    \"\"\"split the ratings to training data and test data.\n",
    "    Args:\n",
    "        min_num_ratings: \n",
    "            all users and items we keep must have at least min_num_ratings per user and per item. \n",
    "    \"\"\"\n",
    "    # set seed\n",
    "    np.random.seed(988)\n",
    "    \n",
    "    # select user and item based on the condition.\n",
    "    valid_users = np.where(num_items_per_user >= min_num_ratings)[0]\n",
    "    valid_items = np.where(num_users_per_item >= min_num_ratings)[0]\n",
    "    valid_ratings = ratings[valid_items, :][: , valid_users]  \n",
    "    \n",
    "    # init\n",
    "    num_rows, num_cols = valid_ratings.shape\n",
    "    train = sp.lil_matrix((num_rows, num_cols))\n",
    "    test = sp.lil_matrix((num_rows, num_cols))\n",
    "    \n",
    "    print(\"the shape of original ratings. (# of row, # of col): {}\".format(\n",
    "        ratings.shape))\n",
    "    print(\"the shape of valid ratings. (# of row, # of col): {}\".format(\n",
    "        (num_rows, num_cols)))\n",
    "    \n",
    "    def list_transpose(L):\n",
    "        \"\"\"Transforms a row vector into a column.\"\"\"\n",
    "        R = []\n",
    "        for e in L:\n",
    "            R.append([e])\n",
    "        return R\n",
    "\n",
    "    nz_items, nz_users = valid_ratings.nonzero()\n",
    "    \n",
    "    # split the data\n",
    "    for user in set(nz_users):\n",
    "        # randomly select a subset of ratings\n",
    "        row, col = valid_ratings[:, user].nonzero()\n",
    "        selects = np.random.choice(row, size=int(len(row) * p_test))\n",
    "        residual = list(set(row) - set(selects))\n",
    "\n",
    "        # add to train set\n",
    "        train[list_transpose(residual), user] = valid_ratings[residual, user]\n",
    "\n",
    "        # add to test set\n",
    "        test[list_transpose(selects), user] = valid_ratings[selects, user]\n",
    "        \n",
    "    print(\"Total number of nonzero elements in original data:{v}\".format(v=ratings.nnz))\n",
    "    print(\"Total number of nonzero elements in train data:{v}\".format(v=train.nnz))\n",
    "    print(\"Total number of nonzero elements in test data:{v}\".format(v=test.nnz))\n",
    "    return valid_ratings, train, test"
   ]
  },
  {
   "cell_type": "code",
   "execution_count": 97,
   "metadata": {},
   "outputs": [
    {
     "name": "stdout",
     "output_type": "stream",
     "text": [
      "the shape of original ratings. (# of row, # of col): (3000, 1000)\n",
      "the shape of valid ratings. (# of row, # of col): (2966, 982)\n",
      "Total number of nonzero elements in original data:353931\n",
      "Total number of nonzero elements in train data:214380\n",
      "Total number of nonzero elements in test data:138842\n"
     ]
    },
    {
     "data": {
      "image/png": "[encoded data removed]",
      "text/plain": [
       "<Figure size 432x288 with 2 Axes>"
      ]
     },
     "metadata": {
      "needs_background": "light"
     },
     "output_type": "display_data"
    }
   ],
   "source": [
    "from plots import plot_train_test_data\n",
    "\n",
    "valid_ratings, train, test = split_data(\n",
    "    ratings, num_items_per_user, num_users_per_item, min_num_ratings=20, p_test=0.5)\n",
    "plot_train_test_data(train, test)"
   ]
  },
  {
   "cell_type": "markdown",
   "metadata": {},
   "source": [
    "## Implementing Baselines "
   ]
  },
  {
   "cell_type": "markdown",
   "metadata": {},
   "source": [
    "### Use the global mean to do the prediction"
   ]
  },
  {
   "cell_type": "code",
   "execution_count": 98,
   "metadata": {},
   "outputs": [
    {
     "name": "stdout",
     "output_type": "stream",
     "text": [
      "test RMSE of baseline using the global mean: [[1.11439266]].\n"
     ]
    }
   ],
   "source": [
    "from helpers import calculate_mse\n",
    "\n",
    "def baseline_global_mean(train, test):\n",
    "    \"\"\"baseline method: use the global mean.\"\"\"\n",
    "    # find the non zero ratings in the train\n",
    "    nonzero_train = train[train.nonzero()]\n",
    "\n",
    "    # calculate the global mean\n",
    "    global_mean_train = nonzero_train.mean()\n",
    "\n",
    "    # find the non zero ratings in the test\n",
    "    nonzero_test = test[test.nonzero()].todense()\n",
    "\n",
    "    # predict the ratings as global mean\n",
    "    mse = calculate_mse(nonzero_test, global_mean_train)\n",
    "    rmse = np.sqrt(1.0 * mse / nonzero_test.shape[1])\n",
    "    print(\"test RMSE of baseline using the global mean: {v}.\".format(v=rmse))\n",
    "\n",
    "baseline_global_mean(train, test)"
   ]
  },
  {
   "cell_type": "markdown",
   "metadata": {},
   "source": [
    "### Use the user means as the prediction"
   ]
  },
  {
   "cell_type": "code",
   "execution_count": 99,
   "metadata": {},
   "outputs": [
    {
     "name": "stdout",
     "output_type": "stream",
     "text": [
      "test RMSE of the baseline using the user mean: [[1.02631872]].\n"
     ]
    }
   ],
   "source": [
    "def baseline_user_mean(train, test):\n",
    "    \"\"\"baseline method: use the user means as the prediction.\"\"\"\n",
    "    mse = 0\n",
    "    num_items, num_users = train.shape\n",
    "    \n",
    "    for user_index in range(num_users):\n",
    "        # find the non-zero ratings for each user in the training dataset\n",
    "        train_ratings = train[:, user_index]\n",
    "        nonzeros_train_ratings = train_ratings[train_ratings.nonzero()]\n",
    "        \n",
    "        # calculate the mean if the number of elements is not 0\n",
    "        if nonzeros_train_ratings.shape[0] != 0:\n",
    "            user_train_mean = nonzeros_train_ratings.mean()\n",
    "        else:\n",
    "            continue\n",
    "        \n",
    "        # find the non-zero ratings for each user in the test dataset\n",
    "        test_ratings = test[:, user_index]\n",
    "        nonzeros_test_ratings = test_ratings[test_ratings.nonzero()].todense()\n",
    "        \n",
    "        # calculate the test error \n",
    "        mse += calculate_mse(nonzeros_test_ratings, user_train_mean)\n",
    "    rmse = np.sqrt(1.0 * mse / test.nnz)\n",
    "    print(\"test RMSE of the baseline using the user mean: {v}.\".format(v=rmse))\n",
    "\n",
    "baseline_user_mean(train, test)"
   ]
  },
  {
   "cell_type": "markdown",
   "metadata": {},
   "source": [
    "### Use the item means as the prediction"
   ]
  },
  {
   "cell_type": "code",
   "execution_count": 100,
   "metadata": {},
   "outputs": [
    {
     "name": "stdout",
     "output_type": "stream",
     "text": [
      "test RMSE of the baseline using the item mean: [[1.09351351]].\n"
     ]
    }
   ],
   "source": [
    "def baseline_item_mean(train, test):\n",
    "    \"\"\"baseline method: use item means as the prediction.\"\"\"\n",
    "    mse = 0\n",
    "    num_items, num_users = train.shape\n",
    "    \n",
    "    for item_index in range(num_items):\n",
    "        # find the non-zero ratings for each item in the training dataset\n",
    "        train_ratings = train[item_index, :]\n",
    "        nonzeros_train_ratings = train_ratings[train_ratings.nonzero()]\n",
    "\n",
    "        # calculate the mean if the number of elements is not 0\n",
    "        if nonzeros_train_ratings.shape[0] != 0:\n",
    "            item_train_mean = nonzeros_train_ratings.mean()\n",
    "        else:\n",
    "            continue\n",
    "        \n",
    "        # find the non-zero ratings for each movie in the test dataset\n",
    "        test_ratings = test[item_index, :]\n",
    "        nonzeros_test_ratings = test_ratings[test_ratings.nonzero()].todense()\n",
    "        \n",
    "        # calculate the test error \n",
    "        mse += calculate_mse(nonzeros_test_ratings, item_train_mean)\n",
    "    rmse = np.sqrt(1.0 * mse / test.nnz)\n",
    "    print(\"test RMSE of the baseline using the item mean: {v}.\".format(v=rmse))\n",
    "    \n",
    "baseline_item_mean(train, test)"
   ]
  },
  {
   "cell_type": "markdown",
   "metadata": {},
   "source": [
    "### Learn the Matrix Factorization using ALS"
   ]
  },
  {
   "cell_type": "code",
   "execution_count": 101,
   "metadata": {},
   "outputs": [],
   "source": [
    "def init_MF(train, num_features):\n",
    "    \"\"\"init the parameter for matrix factorization.\"\"\"\n",
    "    \n",
    "    num_item, num_user = train.get_shape()\n",
    "\n",
    "    # set seed\n",
    "    np.random.seed(988)\n",
    "    \n",
    "    # Initialize randomly\n",
    "    user_features = np.random.rand(num_features, num_user)\n",
    "    item_features = np.random.rand(num_features, num_item)\n",
    "    \n",
    "    # Set the first row of item features to the mean of the ratings of that item.\n",
    "    item_nnz = train.getnnz(axis=1)\n",
    "    item_sum = train.sum(axis=1)\n",
    "\n",
    "    for ind in range(num_item):\n",
    "        item_features[0, ind] = item_sum[ind, 0] / item_nnz[ind]\n",
    "    \n",
    "    # Do the same for user features.\n",
    "    user_nnz = train.getnnz(axis=0)\n",
    "    user_sum = train.sum(axis=0)\n",
    "\n",
    "    for ind in range(num_user):\n",
    "        user_features[0, ind] = user_sum[0, ind] / user_nnz[ind]\n",
    "    \n",
    "    return user_features, item_features"
   ]
  },
  {
   "cell_type": "markdown",
   "metadata": {},
   "source": [
    "Compute the cost by the method of matrix factorization."
   ]
  },
  {
   "cell_type": "code",
   "execution_count": 102,
   "metadata": {},
   "outputs": [],
   "source": [
    "def compute_error(data, user_features, item_features):\n",
    "    \"\"\"compute the loss (MSE) of the prediction of nonzero elements.\"\"\"\n",
    "    nz_row, nz_col = data.nonzero()\n",
    "    nz = list(zip(nz_row, nz_col))\n",
    "    mse = 0\n",
    "    for row, col in nz:\n",
    "        item_info = item_features[:, row]\n",
    "        user_info = user_features[:, col]\n",
    "        predicted_rating = int(round(user_info.T.dot(item_info))) # To calculate the RMSE as would do the aicrowd platform\n",
    "        if predicted_rating not in [1, 2, 3, 4, 5]:\n",
    "            if predicted_rating > 5:\n",
    "                predicted_rating = 5\n",
    "            elif predicted_rating < 1:\n",
    "                predicted_rating = 1\n",
    "        mse += (data[row, col] - predicted_rating) ** 2\n",
    "    return np.sqrt(1.0 * mse / len(nz))"
   ]
  },
  {
   "cell_type": "code",
   "execution_count": 103,
   "metadata": {},
   "outputs": [],
   "source": [
    "def update_user_feature(\n",
    "        train, item_features, lambda_user,\n",
    "        nnz_items_per_user, nz_user_itemindices):\n",
    "    \"\"\"update user feature matrix.\"\"\"\n",
    "    \"\"\"the best lambda is assumed to be nnz_items_per_user[user] * lambda_user\"\"\"\n",
    "    num_user = nnz_items_per_user.shape[0]\n",
    "    num_feature = item_features.shape[0]\n",
    "    lambda_I = lambda_user * sp.eye(num_feature)\n",
    "    updated_user_features = np.zeros((num_feature, num_user))\n",
    "\n",
    "    for user, items in nz_user_itemindices:\n",
    "        # extract the columns corresponding to the prediction for given item\n",
    "        M = item_features[:, items]\n",
    "        \n",
    "        # update column row of user features\n",
    "        V = M @ train[items, user]\n",
    "        A = M @ M.T + nnz_items_per_user[user] * lambda_I\n",
    "        X = np.linalg.solve(A, V)\n",
    "        updated_user_features[:, user] = np.copy(X.T)\n",
    "    return updated_user_features\n",
    "\n",
    "def update_item_feature(\n",
    "        train, user_features, lambda_item,\n",
    "        nnz_users_per_item, nz_item_userindices):\n",
    "    \"\"\"update item feature matrix.\"\"\"\n",
    "    \"\"\"the best lambda is assumed to be nnz_items_per_item[item] * lambda_item\"\"\"\n",
    "    num_item = nnz_users_per_item.shape[0]\n",
    "    num_feature = user_features.shape[0]\n",
    "    lambda_I = lambda_item * sp.eye(num_feature)\n",
    "    updated_item_features = np.zeros((num_feature, num_item))\n",
    "\n",
    "    for item, users in nz_item_userindices:\n",
    "        # extract the columns corresponding to the prediction for given user\n",
    "        M = user_features[:, users]\n",
    "        V = M @ train[item, users].T\n",
    "        A = M @ M.T + nnz_users_per_item[item] * lambda_I\n",
    "        X = np.linalg.solve(A, V)\n",
    "        updated_item_features[:, item] = np.copy(X.T)\n",
    "    return updated_item_features"
   ]
  },
  {
   "cell_type": "code",
   "execution_count": 155,
   "metadata": {},
   "outputs": [],
   "source": [
    "from helpers import build_index_groups\n",
    "\n",
    "\n",
    "def ALS(train, params):\n",
    "    \"\"\"Alternating Least Squares (ALS) algorithm.\"\"\"\n",
    "    # define parameters\n",
    "    num_features = params['K']   # K in the lecture notes\n",
    "    lambda_user = params['lambda_user']\n",
    "    lambda_item = params['lambda_item']\n",
    "    stop_criterion = params['stop_criterion']\n",
    "    change = 1\n",
    "    error_list = [0, 0]\n",
    "    \n",
    "    # set seed\n",
    "    np.random.seed(988)\n",
    "\n",
    "    # init ALS\n",
    "    user_features, item_features = init_MF(train, num_features)\n",
    "    \n",
    "    # get the number of non-zero ratings for each user and item\n",
    "    nnz_items_per_user, nnz_users_per_item = train.getnnz(axis=0), train.getnnz(axis=1)\n",
    "    \n",
    "    # group the indices by row or column index\n",
    "    nz_train, nz_item_userindices, nz_user_itemindices = build_index_groups(train)\n",
    "\n",
    "    # run ALS\n",
    "    print(\"\\nstart the ALS algorithm...\")\n",
    "    while change > stop_criterion:\n",
    "        # update user feature & item feature\n",
    "        user_features = update_user_feature(\n",
    "            train, item_features, lambda_user,\n",
    "            nnz_items_per_user, nz_user_itemindices)\n",
    "        item_features = update_item_feature(\n",
    "            train, user_features, lambda_item,\n",
    "            nnz_users_per_item, nz_item_userindices)\n",
    "\n",
    "        error = compute_error(train, user_features, item_features)\n",
    "        print(\"RMSE on training set: {}.\".format(error))\n",
    "        error_list.append(error)\n",
    "        change = np.fabs(error_list[-1] - error_list[-2])\n",
    "    \n",
    "    return item_features, user_features"
   ]
  },
  {
   "cell_type": "code",
   "execution_count": 118,
   "metadata": {},
   "outputs": [],
   "source": [
    "# define initial parameters\n",
    "params = {\n",
    "    \"K\": 50,\n",
    "    \"stop_criterion\": 1e-5,\n",
    "    \"lambda_user\": 0.1,\n",
    "    \"lambda_item\": 0.1,\n",
    "}"
   ]
  },
  {
   "cell_type": "code",
   "execution_count": 119,
   "metadata": {},
   "outputs": [
    {
     "name": "stdout",
     "output_type": "stream",
     "text": [
      "\n",
      "start the ALS algorithm...\n",
      "RMSE on training set: 1.105573241099733.\n",
      "RMSE on training set: 0.9634494849097929.\n",
      "RMSE on training set: 0.8888005483670101.\n",
      "RMSE on training set: 0.8539405593848964.\n",
      "RMSE on training set: 0.8351477588330521.\n",
      "RMSE on training set: 0.8237965352024201.\n",
      "RMSE on training set: 0.8153388853114535.\n",
      "RMSE on training set: 0.8096782562393149.\n",
      "RMSE on training set: 0.8052415980062276.\n",
      "RMSE on training set: 0.8019358051267947.\n",
      "RMSE on training set: 0.7991885286460465.\n",
      "RMSE on training set: 0.7971869564710006.\n",
      "RMSE on training set: 0.7953768364551486.\n",
      "RMSE on training set: 0.7940855632143069.\n",
      "RMSE on training set: 0.7928304304366974.\n",
      "RMSE on training set: 0.7917559644424235.\n",
      "RMSE on training set: 0.7907537786123915.\n",
      "RMSE on training set: 0.7901990830881365.\n",
      "RMSE on training set: 0.7893810820952374.\n",
      "RMSE on training set: 0.7889170731672199.\n",
      "RMSE on training set: 0.7884113769475348.\n",
      "RMSE on training set: 0.7882338627882741.\n",
      "RMSE on training set: 0.7878550322387134.\n",
      "RMSE on training set: 0.7875204444426511.\n",
      "RMSE on training set: 0.7872657071096264.\n",
      "RMSE on training set: 0.787123492285342.\n",
      "RMSE on training set: 0.7870138508188568.\n",
      "RMSE on training set: 0.7867411625629974.\n",
      "RMSE on training set: 0.7865958878441922.\n",
      "RMSE on training set: 0.786601817949759.\n"
     ]
    }
   ],
   "source": [
    "item_features, user_features = ALS(train, params)"
   ]
  },
  {
   "cell_type": "markdown",
   "metadata": {},
   "source": [
    "K = 50"
   ]
  },
  {
   "cell_type": "code",
   "execution_count": 120,
   "metadata": {
    "scrolled": true
   },
   "outputs": [
    {
     "name": "stdout",
     "output_type": "stream",
     "text": [
      "test RMSE after running ALS: 1.0405521303487224.\n"
     ]
    }
   ],
   "source": [
    "rmse = compute_error(test, user_features, item_features)\n",
    "print(\"test RMSE after running ALS: {v}.\".format(v=rmse))"
   ]
  },
  {
   "cell_type": "markdown",
   "metadata": {},
   "source": [
    "## Tuning lambda_user"
   ]
  },
  {
   "cell_type": "code",
   "execution_count": 127,
   "metadata": {},
   "outputs": [],
   "source": [
    "params['lambda_user'] = 0.15"
   ]
  },
  {
   "cell_type": "code",
   "execution_count": 128,
   "metadata": {},
   "outputs": [
    {
     "name": "stdout",
     "output_type": "stream",
     "text": [
      "\n",
      "start the ALS algorithm...\n",
      "RMSE on training set: 1.2946404334943493.\n",
      "RMSE on training set: 1.129164142866568.\n",
      "RMSE on training set: 1.0647061643217852.\n",
      "RMSE on training set: 1.0271684868069142.\n",
      "RMSE on training set: 1.0024319713889838.\n",
      "RMSE on training set: 0.9867013859142063.\n",
      "RMSE on training set: 0.9753013891620705.\n",
      "RMSE on training set: 0.9681705587369988.\n",
      "RMSE on training set: 0.9626381792780454.\n",
      "RMSE on training set: 0.9587416536034742.\n",
      "RMSE on training set: 0.9557643013617113.\n",
      "RMSE on training set: 0.9534310112229807.\n",
      "RMSE on training set: 0.9514695671214697.\n",
      "RMSE on training set: 0.9499780269577734.\n",
      "RMSE on training set: 0.948828336549846.\n",
      "RMSE on training set: 0.9477781501812562.\n",
      "RMSE on training set: 0.9469632699575811.\n",
      "RMSE on training set: 0.9462807915757727.\n",
      "RMSE on training set: 0.9457507306074072.\n",
      "RMSE on training set: 0.9452080349385715.\n",
      "RMSE on training set: 0.9448600524443306.\n",
      "RMSE on training set: 0.9446329309289159.\n",
      "RMSE on training set: 0.9442056957742081.\n",
      "RMSE on training set: 0.9439981823799232.\n",
      "RMSE on training set: 0.9438425173935031.\n",
      "RMSE on training set: 0.9436769407407739.\n",
      "RMSE on training set: 0.9435286384798726.\n",
      "RMSE on training set: 0.9433926742606601.\n",
      "RMSE on training set: 0.9432097096590907.\n",
      "RMSE on training set: 0.943120687018727.\n",
      "RMSE on training set: 0.9430415487278971.\n",
      "RMSE on training set: 0.942920355347962.\n",
      "RMSE on training set: 0.9428337791102167.\n",
      "RMSE on training set: 0.9427323511196379.\n",
      "RMSE on training set: 0.9427076109299194.\n",
      "RMSE on training set: 0.9426556544180021.\n",
      "RMSE on training set: 0.9425715282789918.\n",
      "RMSE on training set: 0.9424774960608931.\n",
      "RMSE on training set: 0.9424675973869157.\n"
     ]
    }
   ],
   "source": [
    "item_features, user_features = ALS(train, params)"
   ]
  },
  {
   "cell_type": "code",
   "execution_count": 129,
   "metadata": {},
   "outputs": [
    {
     "name": "stdout",
     "output_type": "stream",
     "text": [
      "test RMSE after running ALS: 1.0395583861049025.\n"
     ]
    }
   ],
   "source": [
    "rmse = compute_error(test, user_features, item_features)\n",
    "print(\"test RMSE after running ALS: {v}.\".format(v=rmse))"
   ]
  },
  {
   "cell_type": "code",
   "execution_count": 131,
   "metadata": {},
   "outputs": [],
   "source": [
    "lambda_user_list = [0.095,0.1,0.15,0.2]\n",
    "lambda_user_error = []"
   ]
  },
  {
   "cell_type": "code",
   "execution_count": 133,
   "metadata": {},
   "outputs": [
    {
     "name": "stdout",
     "output_type": "stream",
     "text": [
      "\n",
      "start the ALS algorithm...\n",
      "RMSE on training set: 1.085551239943284.\n",
      "RMSE on training set: 0.9401434805233293.\n",
      "RMSE on training set: 0.8691035515407132.\n",
      "RMSE on training set: 0.8372368691994729.\n",
      "RMSE on training set: 0.8188725727032198.\n",
      "RMSE on training set: 0.8072058623586306.\n",
      "RMSE on training set: 0.7991622631176382.\n",
      "RMSE on training set: 0.7929186779572865.\n",
      "RMSE on training set: 0.7887219305909594.\n",
      "RMSE on training set: 0.7855158631061135.\n",
      "RMSE on training set: 0.782690096824254.\n",
      "RMSE on training set: 0.7806611620837853.\n",
      "RMSE on training set: 0.7790461849584713.\n",
      "RMSE on training set: 0.7772748363896999.\n",
      "RMSE on training set: 0.7763230568337482.\n",
      "RMSE on training set: 0.7753279959213687.\n",
      "RMSE on training set: 0.7744159884363285.\n",
      "RMSE on training set: 0.7734787832373262.\n",
      "RMSE on training set: 0.7727366517877482.\n",
      "RMSE on training set: 0.7722475416016824.\n",
      "RMSE on training set: 0.7714981796344139.\n",
      "RMSE on training set: 0.7712109327718042.\n",
      "RMSE on training set: 0.7708781974221037.\n",
      "RMSE on training set: 0.7706088791298165.\n",
      "RMSE on training set: 0.7701820135437982.\n",
      "RMSE on training set: 0.7699427442749905.\n",
      "RMSE on training set: 0.7696973403283623.\n",
      "RMSE on training set: 0.7694457958342052.\n",
      "RMSE on training set: 0.7694397335064395.\n",
      "test RMSE after running ALS: 1.0425575026189107.\n",
      "\n",
      "\n",
      "start the ALS algorithm...\n",
      "RMSE on training set: 1.105573241099733.\n",
      "RMSE on training set: 0.9634494849097929.\n",
      "RMSE on training set: 0.8888005483670101.\n",
      "RMSE on training set: 0.8539405593848964.\n",
      "RMSE on training set: 0.8351477588330521.\n",
      "RMSE on training set: 0.8237965352024201.\n",
      "RMSE on training set: 0.8153388853114535.\n",
      "RMSE on training set: 0.8096782562393149.\n",
      "RMSE on training set: 0.8052415980062276.\n",
      "RMSE on training set: 0.8019358051267947.\n",
      "RMSE on training set: 0.7991885286460465.\n",
      "RMSE on training set: 0.7971869564710006.\n",
      "RMSE on training set: 0.7953768364551486.\n",
      "RMSE on training set: 0.7940855632143069.\n",
      "RMSE on training set: 0.7928304304366974.\n",
      "RMSE on training set: 0.7917559644424235.\n",
      "RMSE on training set: 0.7907537786123915.\n",
      "RMSE on training set: 0.7901990830881365.\n",
      "RMSE on training set: 0.7893810820952374.\n",
      "RMSE on training set: 0.7889170731672199.\n",
      "RMSE on training set: 0.7884113769475348.\n",
      "RMSE on training set: 0.7882338627882741.\n",
      "RMSE on training set: 0.7878550322387134.\n",
      "RMSE on training set: 0.7875204444426511.\n",
      "RMSE on training set: 0.7872657071096264.\n",
      "RMSE on training set: 0.787123492285342.\n",
      "RMSE on training set: 0.7870138508188568.\n",
      "RMSE on training set: 0.7867411625629974.\n",
      "RMSE on training set: 0.7865958878441922.\n",
      "RMSE on training set: 0.786601817949759.\n",
      "test RMSE after running ALS: 1.0405521303487224.\n",
      "\n",
      "\n",
      "start the ALS algorithm...\n",
      "RMSE on training set: 1.2946404334943493.\n",
      "RMSE on training set: 1.129164142866568.\n",
      "RMSE on training set: 1.0647061643217852.\n",
      "RMSE on training set: 1.0271684868069142.\n",
      "RMSE on training set: 1.0024319713889838.\n",
      "RMSE on training set: 0.9867013859142063.\n",
      "RMSE on training set: 0.9753013891620705.\n",
      "RMSE on training set: 0.9681705587369988.\n",
      "RMSE on training set: 0.9626381792780454.\n",
      "RMSE on training set: 0.9587416536034742.\n",
      "RMSE on training set: 0.9557643013617113.\n",
      "RMSE on training set: 0.9534310112229807.\n",
      "RMSE on training set: 0.9514695671214697.\n",
      "RMSE on training set: 0.9499780269577734.\n",
      "RMSE on training set: 0.948828336549846.\n",
      "RMSE on training set: 0.9477781501812562.\n",
      "RMSE on training set: 0.9469632699575811.\n",
      "RMSE on training set: 0.9462807915757727.\n",
      "RMSE on training set: 0.9457507306074072.\n",
      "RMSE on training set: 0.9452080349385715.\n",
      "RMSE on training set: 0.9448600524443306.\n",
      "RMSE on training set: 0.9446329309289159.\n",
      "RMSE on training set: 0.9442056957742081.\n",
      "RMSE on training set: 0.9439981823799232.\n",
      "RMSE on training set: 0.9438425173935031.\n",
      "RMSE on training set: 0.9436769407407739.\n",
      "RMSE on training set: 0.9435286384798726.\n",
      "RMSE on training set: 0.9433926742606601.\n",
      "RMSE on training set: 0.9432097096590907.\n",
      "RMSE on training set: 0.943120687018727.\n",
      "RMSE on training set: 0.9430415487278971.\n",
      "RMSE on training set: 0.942920355347962.\n",
      "RMSE on training set: 0.9428337791102167.\n",
      "RMSE on training set: 0.9427323511196379.\n",
      "RMSE on training set: 0.9427076109299194.\n",
      "RMSE on training set: 0.9426556544180021.\n",
      "RMSE on training set: 0.9425715282789918.\n",
      "RMSE on training set: 0.9424774960608931.\n",
      "RMSE on training set: 0.9424675973869157.\n",
      "test RMSE after running ALS: 1.0395583861049025.\n",
      "\n",
      "\n",
      "start the ALS algorithm...\n",
      "RMSE on training set: 1.424483709621671.\n",
      "RMSE on training set: 1.2016990490692772.\n",
      "RMSE on training set: 1.1251934352883217.\n",
      "RMSE on training set: 1.0931859443431449.\n",
      "RMSE on training set: 1.0752670702296148.\n",
      "RMSE on training set: 1.063634439073504.\n",
      "RMSE on training set: 1.05656336763462.\n",
      "RMSE on training set: 1.051542742890184.\n",
      "RMSE on training set: 1.0477631561134848.\n",
      "RMSE on training set: 1.0447805403339898.\n",
      "RMSE on training set: 1.0428477770729991.\n",
      "RMSE on training set: 1.0416528126702567.\n",
      "RMSE on training set: 1.0403555981014279.\n",
      "RMSE on training set: 1.0395302749136186.\n",
      "RMSE on training set: 1.0389467708985474.\n",
      "RMSE on training set: 1.0384707480436806.\n",
      "RMSE on training set: 1.0380214697659778.\n",
      "RMSE on training set: 1.0377046116731814.\n",
      "RMSE on training set: 1.0373269522653272.\n",
      "RMSE on training set: 1.0370706050569183.\n",
      "RMSE on training set: 1.036996387459147.\n",
      "RMSE on training set: 1.0368546845659847.\n",
      "RMSE on training set: 1.0367759523677975.\n",
      "RMSE on training set: 1.036676966263721.\n",
      "RMSE on training set: 1.0365352197030542.\n",
      "RMSE on training set: 1.0365307194947895.\n",
      "test RMSE after running ALS: 1.056335130961593.\n",
      "\n"
     ]
    }
   ],
   "source": [
    "for lambda_user in lambda_user_list:\n",
    "    params['lambda_user'] = lambda_user\n",
    "    item_features, user_features = ALS(train, params)\n",
    "    rmse = compute_error(test, user_features, item_features)\n",
    "    print(\"test RMSE after running ALS: {v}.\\n\".format(v=rmse))\n",
    "    lambda_user_error.append(rmse)"
   ]
  },
  {
   "cell_type": "code",
   "execution_count": 134,
   "metadata": {},
   "outputs": [],
   "source": [
    "best_lambda_user = lambda_user_list[int(lambda_user_error.index(min(lambda_user_error)))]"
   ]
  },
  {
   "cell_type": "code",
   "execution_count": 135,
   "metadata": {},
   "outputs": [
    {
     "name": "stdout",
     "output_type": "stream",
     "text": [
      "0.15\n"
     ]
    }
   ],
   "source": [
    "print(best_lambda_user)"
   ]
  },
  {
   "cell_type": "code",
   "execution_count": 147,
   "metadata": {},
   "outputs": [],
   "source": [
    "params['lambda_user'] = best_lambda_user"
   ]
  },
  {
   "cell_type": "markdown",
   "metadata": {},
   "source": [
    "## Tuning lambda item"
   ]
  },
  {
   "cell_type": "code",
   "execution_count": 159,
   "metadata": {},
   "outputs": [],
   "source": [
    "params['lambda_item'] = 0.01"
   ]
  },
  {
   "cell_type": "code",
   "execution_count": 157,
   "metadata": {},
   "outputs": [
    {
     "name": "stdout",
     "output_type": "stream",
     "text": [
      "\n",
      "start the ALS algorithm...\n",
      "RMSE on training set: 0.652419124249112.\n",
      "RMSE on training set: 0.5316944101616854.\n",
      "RMSE on training set: 0.4692921228376998.\n",
      "RMSE on training set: 0.43123022986384896.\n",
      "RMSE on training set: 0.4052436412910037.\n",
      "RMSE on training set: 0.38650864871957424.\n",
      "RMSE on training set: 0.372765601267336.\n",
      "RMSE on training set: 0.3621725449666809.\n",
      "RMSE on training set: 0.35382705025310135.\n",
      "RMSE on training set: 0.34706531579318844.\n",
      "RMSE on training set: 0.34149673574472517.\n",
      "RMSE on training set: 0.33627307105814025.\n",
      "RMSE on training set: 0.3314669270443554.\n",
      "RMSE on training set: 0.32713948772012524.\n",
      "RMSE on training set: 0.3231801005125342.\n",
      "RMSE on training set: 0.31952216166041564.\n",
      "RMSE on training set: 0.31628676373489173.\n",
      "RMSE on training set: 0.313434906213198.\n",
      "RMSE on training set: 0.31134442093392883.\n",
      "RMSE on training set: 0.3092699709274024.\n",
      "RMSE on training set: 0.3073560923678372.\n",
      "RMSE on training set: 0.30520105125429126.\n",
      "RMSE on training set: 0.30346907399156425.\n",
      "RMSE on training set: 0.3021905903665014.\n",
      "RMSE on training set: 0.3005188783271222.\n",
      "RMSE on training set: 0.2989392572764607.\n",
      "RMSE on training set: 0.29771966633080044.\n",
      "RMSE on training set: 0.29625897703217746.\n",
      "RMSE on training set: 0.2949334268617862.\n",
      "RMSE on training set: 0.29368926069116214.\n",
      "RMSE on training set: 0.2924796753304205.\n",
      "RMSE on training set: 0.2913451308325214.\n",
      "RMSE on training set: 0.2906237601754935.\n",
      "RMSE on training set: 0.28969134389401435.\n",
      "RMSE on training set: 0.28878014702954663.\n",
      "RMSE on training set: 0.2879875711263233.\n",
      "RMSE on training set: 0.2872090495728581.\n",
      "RMSE on training set: 0.2865261079913777.\n",
      "RMSE on training set: 0.28579257387029916.\n",
      "RMSE on training set: 0.28459040213376696.\n",
      "RMSE on training set: 0.284114676426523.\n",
      "RMSE on training set: 0.28351478360341364.\n",
      "RMSE on training set: 0.2830290096116345.\n",
      "RMSE on training set: 0.2825176352001512.\n",
      "RMSE on training set: 0.281641199205704.\n",
      "RMSE on training set: 0.2809613260266296.\n",
      "RMSE on training set: 0.28017992966024563.\n",
      "RMSE on training set: 0.27953822223126695.\n",
      "RMSE on training set: 0.2786273043627442.\n",
      "RMSE on training set: 0.27806590151007426.\n",
      "RMSE on training set: 0.2773099895447946.\n",
      "RMSE on training set: 0.27691441535648365.\n",
      "RMSE on training set: 0.27629044858396634.\n",
      "RMSE on training set: 0.275791950097862.\n",
      "RMSE on training set: 0.2757581209716878.\n",
      "RMSE on training set: 0.2753518472763324.\n",
      "RMSE on training set: 0.27532643526508577.\n",
      "RMSE on training set: 0.27513153186856315.\n",
      "RMSE on training set: 0.27464791427729296.\n",
      "RMSE on training set: 0.2742570045814559.\n",
      "RMSE on training set: 0.2740868699468559.\n",
      "RMSE on training set: 0.27353320155311767.\n",
      "RMSE on training set: 0.2731748497830091.\n",
      "RMSE on training set: 0.27248241191097267.\n",
      "RMSE on training set: 0.27239680368619773.\n",
      "RMSE on training set: 0.2721998025918088.\n",
      "RMSE on training set: 0.2719940841072578.\n",
      "RMSE on training set: 0.2717710466904073.\n",
      "RMSE on training set: 0.27159076736928134.\n",
      "RMSE on training set: 0.2711524471476858.\n",
      "RMSE on training set: 0.2709631489353814.\n",
      "RMSE on training set: 0.2706789533953026.\n",
      "RMSE on training set: 0.2705582954039051.\n",
      "RMSE on training set: 0.2703599546612433.\n",
      "RMSE on training set: 0.2702391542414235.\n",
      "RMSE on training set: 0.2702477846335771.\n"
     ]
    }
   ],
   "source": [
    "item_features, user_features = ALS(train, params)"
   ]
  },
  {
   "cell_type": "code",
   "execution_count": 158,
   "metadata": {},
   "outputs": [
    {
     "name": "stdout",
     "output_type": "stream",
     "text": [
      "test RMSE after running ALS: 1.295293333633461.\n"
     ]
    }
   ],
   "source": [
    "rmse = compute_error(test, user_features, item_features)\n",
    "print(\"test RMSE after running ALS: {v}.\".format(v=rmse))"
   ]
  },
  {
   "cell_type": "code",
   "execution_count": 160,
   "metadata": {},
   "outputs": [],
   "source": [
    "lambda_item_list = [0.01, 0.08,0.1,0.2,0.3]\n",
    "lambda_item_error = []"
   ]
  },
  {
   "cell_type": "code",
   "execution_count": 161,
   "metadata": {},
   "outputs": [
    {
     "name": "stdout",
     "output_type": "stream",
     "text": [
      "{'K': 50, 'stop_criterion': 1e-05, 'lambda_user': 0.15, 'lambda_item': 0.01}\n",
      "\n",
      "start the ALS algorithm...\n",
      "RMSE on training set: 0.8338565388042788.\n",
      "RMSE on training set: 0.6555610107596767.\n",
      "RMSE on training set: 0.5999930030378475.\n",
      "RMSE on training set: 0.5723965752436729.\n",
      "RMSE on training set: 0.5568861758860546.\n",
      "RMSE on training set: 0.5463923868047965.\n",
      "RMSE on training set: 0.5393508483582634.\n",
      "RMSE on training set: 0.5340316936282168.\n",
      "RMSE on training set: 0.5292586792015938.\n",
      "RMSE on training set: 0.5259875806283619.\n",
      "RMSE on training set: 0.5230662323472631.\n",
      "RMSE on training set: 0.5201643478579974.\n",
      "RMSE on training set: 0.5179221044506314.\n",
      "RMSE on training set: 0.5158057795349893.\n",
      "RMSE on training set: 0.5143069267367966.\n",
      "RMSE on training set: 0.5122894944935782.\n",
      "RMSE on training set: 0.5110587836292976.\n",
      "RMSE on training set: 0.5097885027802581.\n",
      "RMSE on training set: 0.5089093353766935.\n",
      "RMSE on training set: 0.5077852707056687.\n",
      "RMSE on training set: 0.5071280324630296.\n",
      "RMSE on training set: 0.5060737541600903.\n",
      "RMSE on training set: 0.5053450658711688.\n",
      "RMSE on training set: 0.5048232702556632.\n",
      "RMSE on training set: 0.5042084296183283.\n",
      "RMSE on training set: 0.5036021009023017.\n",
      "RMSE on training set: 0.5026564380657885.\n",
      "RMSE on training set: 0.5020203607211552.\n",
      "RMSE on training set: 0.5014532477128427.\n",
      "RMSE on training set: 0.5009646446077162.\n",
      "RMSE on training set: 0.5003170932199652.\n",
      "RMSE on training set: 0.49948662888409306.\n",
      "RMSE on training set: 0.49894935794808815.\n",
      "RMSE on training set: 0.4985425160989205.\n",
      "RMSE on training set: 0.4980229594888188.\n",
      "RMSE on training set: 0.49773720647504455.\n",
      "RMSE on training set: 0.4976247340797154.\n",
      "RMSE on training set: 0.49736688891089775.\n",
      "RMSE on training set: 0.4970526058990802.\n",
      "RMSE on training set: 0.49670056066340024.\n",
      "RMSE on training set: 0.4963012741805545.\n",
      "RMSE on training set: 0.4961602728213433.\n",
      "RMSE on training set: 0.49573232336679157.\n",
      "RMSE on training set: 0.49561469013208953.\n",
      "RMSE on training set: 0.49526162278839747.\n",
      "RMSE on training set: 0.49512974643862556.\n",
      "RMSE on training set: 0.49474804906662245.\n",
      "RMSE on training set: 0.49443681852753085.\n",
      "RMSE on training set: 0.49436133919213787.\n",
      "RMSE on training set: 0.49417731001395065.\n",
      "RMSE on training set: 0.49418202956690027.\n",
      "test RMSE after running ALS: 1.1299988852160197.\n",
      "\n",
      "{'K': 50, 'stop_criterion': 1e-05, 'lambda_user': 0.15, 'lambda_item': 0.08}\n",
      "\n",
      "start the ALS algorithm...\n",
      "RMSE on training set: 1.0692179292028092.\n",
      "RMSE on training set: 0.9803579865960385.\n",
      "RMSE on training set: 0.9146550708789509.\n",
      "RMSE on training set: 0.8802997776208601.\n",
      "RMSE on training set: 0.8619032045775287.\n",
      "RMSE on training set: 0.8512076887225722.\n",
      "RMSE on training set: 0.8438131966775642.\n",
      "RMSE on training set: 0.8383337242149321.\n",
      "RMSE on training set: 0.8341753372820379.\n",
      "RMSE on training set: 0.8308358882233059.\n",
      "RMSE on training set: 0.8285476915491213.\n",
      "RMSE on training set: 0.8262108156937914.\n",
      "RMSE on training set: 0.824376720516764.\n",
      "RMSE on training set: 0.8232895999969854.\n",
      "RMSE on training set: 0.8222237350686908.\n",
      "RMSE on training set: 0.821363800271645.\n",
      "RMSE on training set: 0.8208752516357266.\n",
      "RMSE on training set: 0.8200366562223171.\n",
      "RMSE on training set: 0.8198034027624511.\n",
      "RMSE on training set: 0.8193082303405476.\n",
      "RMSE on training set: 0.8189124464342324.\n",
      "RMSE on training set: 0.8186389875630191.\n",
      "RMSE on training set: 0.8183255369302614.\n",
      "RMSE on training set: 0.8180091149932011.\n",
      "RMSE on training set: 0.817846580478567.\n",
      "RMSE on training set: 0.8176012918141424.\n",
      "RMSE on training set: 0.8173930239100998.\n",
      "RMSE on training set: 0.8172703207169166.\n",
      "RMSE on training set: 0.8172018272024715.\n",
      "RMSE on training set: 0.8171133479155323.\n",
      "RMSE on training set: 0.8169220857510774.\n",
      "RMSE on training set: 0.816864983888502.\n",
      "RMSE on training set: 0.8167821790969162.\n",
      "RMSE on training set: 0.8167193560685985.\n",
      "RMSE on training set: 0.816593695512465.\n",
      "RMSE on training set: 0.8164822983969001.\n",
      "RMSE on training set: 0.8163223169791735.\n",
      "RMSE on training set: 0.8162908883735293.\n",
      "RMSE on training set: 0.8161994528214784.\n",
      "RMSE on training set: 0.816125153892425.\n",
      "RMSE on training set: 0.816116580503806.\n",
      "test RMSE after running ALS: 1.0367729190105692.\n",
      "\n",
      "{'K': 50, 'stop_criterion': 1e-05, 'lambda_user': 0.15, 'lambda_item': 0.1}\n",
      "\n",
      "start the ALS algorithm...\n",
      "RMSE on training set: 1.1334625632187816.\n",
      "RMSE on training set: 1.03646096376808.\n",
      "RMSE on training set: 0.9711170800911215.\n",
      "RMSE on training set: 0.9307338555367674.\n",
      "RMSE on training set: 0.9087199753808236.\n",
      "RMSE on training set: 0.895235181621726.\n",
      "RMSE on training set: 0.8861041251291796.\n",
      "RMSE on training set: 0.8801805444559074.\n",
      "RMSE on training set: 0.875989172064161.\n",
      "RMSE on training set: 0.8725772103173995.\n",
      "RMSE on training set: 0.8697446901839535.\n",
      "RMSE on training set: 0.8674435149925234.\n",
      "RMSE on training set: 0.8653060429691223.\n",
      "RMSE on training set: 0.863884422996674.\n",
      "RMSE on training set: 0.8627119181497944.\n",
      "RMSE on training set: 0.8618166083369758.\n",
      "RMSE on training set: 0.8611939416479168.\n",
      "RMSE on training set: 0.8606168963590721.\n",
      "RMSE on training set: 0.8599011478887044.\n",
      "RMSE on training set: 0.8593639453232279.\n",
      "RMSE on training set: 0.8590001933724031.\n",
      "RMSE on training set: 0.8587096240816978.\n",
      "RMSE on training set: 0.858500461965122.\n",
      "RMSE on training set: 0.8580738305992164.\n",
      "RMSE on training set: 0.8578617947249855.\n",
      "RMSE on training set: 0.8575599609756349.\n",
      "RMSE on training set: 0.8574212449796634.\n",
      "RMSE on training set: 0.8571981643558804.\n",
      "RMSE on training set: 0.8570838810625026.\n",
      "RMSE on training set: 0.8568716002218317.\n",
      "RMSE on training set: 0.8567899397399753.\n",
      "RMSE on training set: 0.8568062724589783.\n",
      "RMSE on training set: 0.8568253269043252.\n",
      "RMSE on training set: 0.8567491065802663.\n",
      "RMSE on training set: 0.8564795589018344.\n",
      "RMSE on training set: 0.8564604967638764.\n",
      "RMSE on training set: 0.8564496039231264.\n",
      "RMSE on training set: 0.8564087545363687.\n",
      "RMSE on training set: 0.8563896908223962.\n",
      "RMSE on training set: 0.8564359876773617.\n",
      "RMSE on training set: 0.8564005844252005.\n",
      "RMSE on training set: 0.8562916421607587.\n",
      "RMSE on training set: 0.8562644044289152.\n",
      "RMSE on training set: 0.8562889184265626.\n",
      "RMSE on training set: 0.8562889184265626.\n",
      "test RMSE after running ALS: 1.0361475029725915.\n",
      "\n",
      "{'K': 50, 'stop_criterion': 1e-05, 'lambda_user': 0.15, 'lambda_item': 0.2}\n",
      "\n",
      "start the ALS algorithm...\n",
      "RMSE on training set: 1.4125287355889906.\n",
      "RMSE on training set: 1.186986689427033.\n",
      "RMSE on training set: 1.1088614224774855.\n",
      "RMSE on training set: 1.0737541786635367.\n",
      "RMSE on training set: 1.0530410340289784.\n",
      "RMSE on training set: 1.0398308760417057.\n",
      "RMSE on training set: 1.0307928106332591.\n",
      "RMSE on training set: 1.0242921279010968.\n",
      "RMSE on training set: 1.0196524910662212.\n",
      "RMSE on training set: 1.0158460898634623.\n",
      "RMSE on training set: 1.0129859318770427.\n",
      "RMSE on training set: 1.0109623963734946.\n",
      "RMSE on training set: 1.0093323284381308.\n",
      "RMSE on training set: 1.0078361691363265.\n",
      "RMSE on training set: 1.006893860257957.\n",
      "RMSE on training set: 1.0058022730735026.\n",
      "RMSE on training set: 1.005087812748226.\n",
      "RMSE on training set: 1.0045423470364292.\n",
      "RMSE on training set: 1.0039780006205377.\n",
      "RMSE on training set: 1.0035760297392093.\n",
      "RMSE on training set: 1.0032413184359348.\n",
      "RMSE on training set: 1.002943703502252.\n",
      "RMSE on training set: 1.0026971742683601.\n",
      "RMSE on training set: 1.0025762132354135.\n",
      "RMSE on training set: 1.0024622173667583.\n",
      "RMSE on training set: 1.0023365742499433.\n",
      "RMSE on training set: 1.0021853162732657.\n",
      "RMSE on training set: 1.0021387707643177.\n",
      "RMSE on training set: 1.0020386905987475.\n",
      "RMSE on training set: 1.0019711890289045.\n",
      "RMSE on training set: 1.0019083386516023.\n",
      "RMSE on training set: 1.0018524683394956.\n",
      "RMSE on training set: 1.0018478123395127.\n",
      "test RMSE after running ALS: 1.0463089370656575.\n",
      "\n",
      "{'K': 50, 'stop_criterion': 1e-05, 'lambda_user': 0.15, 'lambda_item': 0.3}\n",
      "\n",
      "start the ALS algorithm...\n",
      "RMSE on training set: 1.6022814106195746.\n",
      "RMSE on training set: 1.2554350541185388.\n",
      "RMSE on training set: 1.1470259104397236.\n",
      "RMSE on training set: 1.1049190744224138.\n",
      "RMSE on training set: 1.0845689308828486.\n",
      "RMSE on training set: 1.0714340356770289.\n",
      "RMSE on training set: 1.0635072507310404.\n",
      "RMSE on training set: 1.0583212401600102.\n",
      "RMSE on training set: 1.0545172910125753.\n",
      "RMSE on training set: 1.0513031731082525.\n",
      "RMSE on training set: 1.0495224348101784.\n",
      "RMSE on training set: 1.0476184569696758.\n",
      "RMSE on training set: 1.0465938604992766.\n",
      "RMSE on training set: 1.0457578488809578.\n",
      "RMSE on training set: 1.0450707044555962.\n",
      "RMSE on training set: 1.0446153339900244.\n",
      "RMSE on training set: 1.0443339765675075.\n",
      "RMSE on training set: 1.0439564812803988.\n",
      "RMSE on training set: 1.0438403014192634.\n",
      "RMSE on training set: 1.043695058406282.\n",
      "RMSE on training set: 1.043569909754231.\n",
      "RMSE on training set: 1.0434201586085132.\n",
      "RMSE on training set: 1.0432569724432026.\n",
      "RMSE on training set: 1.0432234378779128.\n",
      "RMSE on training set: 1.0431228277135791.\n",
      "RMSE on training set: 1.043095996697493.\n",
      "RMSE on training set: 1.0430825809306365.\n",
      "RMSE on training set: 1.043069164991229.\n",
      "RMSE on training set: 1.0430378604615413.\n",
      "RMSE on training set: 1.0430378604615413.\n",
      "test RMSE after running ALS: 1.0602178470917187.\n",
      "\n"
     ]
    }
   ],
   "source": [
    "for lambda_item in lambda_item_list:\n",
    "    params['lambda_item'] = lambda_item\n",
    "    print(params)\n",
    "    item_features, user_features = ALS(train, params)\n",
    "    rmse = compute_error(test, user_features, item_features)\n",
    "    print(\"test RMSE after running ALS: {v}.\\n\".format(v=rmse))\n",
    "    lambda_item_error.append(rmse)"
   ]
  },
  {
   "cell_type": "code",
   "execution_count": 162,
   "metadata": {},
   "outputs": [],
   "source": [
    "best_lambda_item = lambda_item_list[int(lambda_item_error.index(min(lambda_item_error)))]"
   ]
  },
  {
   "cell_type": "code",
   "execution_count": 163,
   "metadata": {},
   "outputs": [
    {
     "name": "stdout",
     "output_type": "stream",
     "text": [
      "0.1\n"
     ]
    }
   ],
   "source": [
    "print(best_lambda_item)"
   ]
  },
  {
   "cell_type": "code",
   "execution_count": 164,
   "metadata": {},
   "outputs": [],
   "source": [
    "params['lambda_item'] = best_lambda_item"
   ]
  },
  {
   "cell_type": "code",
   "execution_count": 165,
   "metadata": {},
   "outputs": [
    {
     "name": "stdout",
     "output_type": "stream",
     "text": [
      "{'K': 50, 'stop_criterion': 1e-05, 'lambda_user': 0.15, 'lambda_item': 0.1}\n"
     ]
    }
   ],
   "source": [
    "print(params)"
   ]
  },
  {
   "cell_type": "markdown",
   "metadata": {},
   "source": [
    "## Fit over the full data"
   ]
  },
  {
   "cell_type": "code",
   "execution_count": 166,
   "metadata": {},
   "outputs": [
    {
     "name": "stdout",
     "output_type": "stream",
     "text": [
      "\n",
      "start the ALS algorithm...\n",
      "RMSE on training set: 1.1726405309746673.\n",
      "RMSE on training set: 1.108821128508325.\n",
      "RMSE on training set: 1.0794240445974472.\n",
      "RMSE on training set: 1.0595128339955782.\n",
      "RMSE on training set: 1.0468460551472827.\n",
      "RMSE on training set: 1.0387344394929414.\n",
      "RMSE on training set: 1.0329648236600435.\n",
      "RMSE on training set: 1.0289223671577747.\n",
      "RMSE on training set: 1.0259341110931615.\n",
      "RMSE on training set: 1.023697258164516.\n",
      "RMSE on training set: 1.0218580213956034.\n",
      "RMSE on training set: 1.020391489309146.\n",
      "RMSE on training set: 1.0190875230743592.\n",
      "RMSE on training set: 1.018101567426348.\n",
      "RMSE on training set: 1.0171948469944276.\n",
      "RMSE on training set: 1.0164929615352012.\n",
      "RMSE on training set: 1.0158662864863277.\n",
      "RMSE on training set: 1.0153651700434885.\n",
      "RMSE on training set: 1.014929524878432.\n",
      "RMSE on training set: 1.014588745985107.\n",
      "RMSE on training set: 1.014271727236678.\n",
      "RMSE on training set: 1.0140249954778517.\n",
      "RMSE on training set: 1.013773175028898.\n",
      "RMSE on training set: 1.0135870977755612.\n",
      "RMSE on training set: 1.0134496133579511.\n",
      "RMSE on training set: 1.0133095948128306.\n",
      "RMSE on training set: 1.0132119057475852.\n",
      "RMSE on training set: 1.0130810798865535.\n",
      "RMSE on training set: 1.0130026601346322.\n",
      "RMSE on training set: 1.0128869065196247.\n",
      "RMSE on training set: 1.0127883377602456.\n",
      "RMSE on training set: 1.012718285193539.\n",
      "RMSE on training set: 1.0126352225779691.\n",
      "RMSE on training set: 1.01261214842002.\n",
      "RMSE on training set: 1.012597464591201.\n",
      "RMSE on training set: 1.012554250945269.\n",
      "RMSE on training set: 1.0125164899389691.\n",
      "RMSE on training set: 1.012479986294195.\n",
      "RMSE on training set: 1.0124506145900325.\n",
      "RMSE on training set: 1.0124392852764224.\n",
      "RMSE on training set: 1.0124090731536486.\n",
      "RMSE on training set: 1.0123939667541624.\n",
      "RMSE on training set: 1.012372146001395.\n",
      "RMSE on training set: 1.0123515837077939.\n",
      "RMSE on training set: 1.0123452890446247.\n"
     ]
    }
   ],
   "source": [
    "item_features_full, user_features_full = ALS(ratings_full, params)"
   ]
  },
  {
   "cell_type": "markdown",
   "metadata": {},
   "source": [
    "## Record the result into a csv file"
   ]
  },
  {
   "cell_type": "code",
   "execution_count": 167,
   "metadata": {},
   "outputs": [
    {
     "name": "stdout",
     "output_type": "stream",
     "text": [
      "(10000, 1000)\n",
      "Submission created successfully!\n"
     ]
    }
   ],
   "source": [
    "from helpers import get_submission_csv\n",
    "\n",
    "get_submission_csv(item_features_full, user_features_full, path_sample, path_submission)"
   ]
  }
 ],
 "metadata": {
  "kernelspec": {
   "display_name": "Python 3",
   "language": "python",
   "name": "python3"
  },
  "language_info": {
   "codemirror_mode": {
    "name": "ipython",
    "version": 3
   },
   "file_extension": ".py",
   "mimetype": "text/x-python",
   "name": "python",
   "nbconvert_exporter": "python",
   "pygments_lexer": "ipython3",
   "version": "3.6.7"
  }
 },
 "nbformat": 4,
 "nbformat_minor": 4
}
